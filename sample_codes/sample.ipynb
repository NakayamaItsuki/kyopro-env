{
 "cells": [
  {
   "cell_type": "markdown",
   "metadata": {},
   "source": [
    "# とりあえずコードを動かす場所"
   ]
  },
  {
   "cell_type": "code",
   "execution_count": 2,
   "metadata": {},
   "outputs": [
    {
     "name": "stdout",
     "output_type": "stream",
     "text": [
      "Package                   Version\n",
      "------------------------- -----------\n",
      "appdirs                   1.4.4\n",
      "asttokens                 2.4.1\n",
      "attrs                     23.2.0\n",
      "beautifulsoup4            4.12.3\n",
      "certifi                   2024.2.2\n",
      "charset-normalizer        3.3.2\n",
      "colorama                  0.4.6\n",
      "colorlog                  6.8.2\n",
      "comm                      0.2.1\n",
      "debugpy                   1.8.1\n",
      "decorator                 5.1.1\n",
      "exceptiongroup            1.2.0\n",
      "executing                 2.0.1\n",
      "idna                      3.6\n",
      "ipykernel                 6.29.3\n",
      "ipython                   8.22.2\n",
      "jedi                      0.19.1\n",
      "jsonschema                4.21.1\n",
      "jsonschema-specifications 2023.12.1\n",
      "jupyter_client            8.6.0\n",
      "jupyter_core              5.7.1\n",
      "lxml                      5.1.0\n",
      "matplotlib-inline         0.1.6\n",
      "nest-asyncio              1.6.0\n",
      "numpy                     1.26.4\n",
      "online-judge-api-client   10.10.1\n",
      "online-judge-tools        11.5.1\n",
      "packaging                 23.2\n",
      "parso                     0.8.3\n",
      "pexpect                   4.9.0\n",
      "pip                       24.0\n",
      "platformdirs              4.2.0\n",
      "prompt-toolkit            3.0.43\n",
      "psutil                    5.9.8\n",
      "ptyprocess                0.7.0\n",
      "pure-eval                 0.2.2\n",
      "Pygments                  2.17.2\n",
      "python-dateutil           2.9.0.post0\n",
      "pyzmq                     25.1.2\n",
      "referencing               0.33.0\n",
      "requests                  2.31.0\n",
      "rpds-py                   0.18.0\n",
      "setuptools                69.1.0\n",
      "six                       1.16.0\n",
      "soupsieve                 2.5\n",
      "stack-data                0.6.3\n",
      "toml                      0.10.2\n",
      "tornado                   6.4\n",
      "traitlets                 5.14.1\n",
      "urllib3                   2.2.1\n",
      "wcwidth                   0.2.13\n",
      "wheel                     0.42.0\n",
      "Note: you may need to restart the kernel to use updated packages.\n"
     ]
    }
   ],
   "source": [
    "pip list"
   ]
  },
  {
   "cell_type": "code",
   "execution_count": 1,
   "metadata": {},
   "outputs": [
    {
     "name": "stdout",
     "output_type": "stream",
     "text": [
      "1\n",
      "2\n",
      "4\n",
      "8\n",
      "16\n"
     ]
    }
   ],
   "source": [
    "import numpy as np\n",
    "\n",
    "N = 5\n",
    "\n",
    "for i in range(N):\n",
    "    print(np.power(2, i))"
   ]
  },
  {
   "cell_type": "code",
   "execution_count": null,
   "metadata": {},
   "outputs": [],
   "source": []
  },
  {
   "cell_type": "code",
   "execution_count": 9,
   "metadata": {},
   "outputs": [
    {
     "name": "stdout",
     "output_type": "stream",
     "text": [
      "\n"
     ]
    }
   ],
   "source": [
    "string = input()\n",
    "\n",
    "s1 = string.split('|')[0]\n",
    "s2 = string.split('|')[2]\n",
    "\n",
    "# return s1.join(s2)\n",
    "print(s1+s2)"
   ]
  },
  {
   "cell_type": "code",
   "execution_count": null,
   "metadata": {},
   "outputs": [],
   "source": [
    "def main():\n",
    "    \n",
    "    string = input()\n",
    "\n",
    "    s1 = string.split('|')[0]\n",
    "    s2 = string.split('|')[2]\n",
    "\n",
    "    return s1+s2\n",
    "    \n",
    "\n",
    "if __name__ == \"__main__\":\n",
    "    main()\n"
   ]
  },
  {
   "cell_type": "code",
   "execution_count": 6,
   "metadata": {},
   "outputs": [
    {
     "data": {
      "text/plain": [
       "'atcoder|beginner|contest'"
      ]
     },
     "execution_count": 6,
     "metadata": {},
     "output_type": "execute_result"
    }
   ],
   "source": [
    "string"
   ]
  },
  {
   "cell_type": "code",
   "execution_count": null,
   "metadata": {},
   "outputs": [],
   "source": []
  },
  {
   "cell_type": "code",
   "execution_count": 19,
   "metadata": {},
   "outputs": [],
   "source": [
    "lines = []\n",
    "\n",
    "while True:\n",
    "    line = input()\n",
    "    if line == \"\":\n",
    "        break\n",
    "    lines.append(line)\n"
   ]
  },
  {
   "cell_type": "code",
   "execution_count": 20,
   "metadata": {},
   "outputs": [
    {
     "name": "stdout",
     "output_type": "stream",
     "text": [
      "c\n",
      "b\n",
      "a\n"
     ]
    }
   ],
   "source": [
    "# 逆順に出力\n",
    "for line in reversed(lines):\n",
    "    print(line)"
   ]
  },
  {
   "cell_type": "code",
   "execution_count": 14,
   "metadata": {},
   "outputs": [],
   "source": [
    "strings = input().split('\\n')\n"
   ]
  },
  {
   "cell_type": "code",
   "execution_count": 13,
   "metadata": {},
   "outputs": [
    {
     "data": {
      "text/plain": [
       "'32 1 0'"
      ]
     },
     "execution_count": 13,
     "metadata": {},
     "output_type": "execute_result"
    }
   ],
   "source": [
    "strings"
   ]
  },
  {
   "cell_type": "code",
   "execution_count": null,
   "metadata": {},
   "outputs": [],
   "source": []
  },
  {
   "cell_type": "code",
   "execution_count": null,
   "metadata": {},
   "outputs": [],
   "source": [
    "3\n",
    "1 2 3\n",
    "2\n",
    "2 4\n",
    "6\n",
    "1 2 4 8 16 32\n",
    "4\n",
    "1 5 10 50\n"
   ]
  },
  {
   "cell_type": "code",
   "execution_count": 22,
   "metadata": {},
   "outputs": [],
   "source": [
    "N = int(input())\n",
    "As = list(map(int, input().split()))\n",
    "\n",
    "M = int(input())\n",
    "Bs = list(map(int, input().split()))\n",
    "\n",
    "L = int(input())\n",
    "Cs = list(map(int, input().split()))\n",
    "\n",
    "Q = int(input())\n",
    "Xs = list(map(int, input().split()))"
   ]
  },
  {
   "cell_type": "code",
   "execution_count": 32,
   "metadata": {},
   "outputs": [
    {
     "name": "stdout",
     "output_type": "stream",
     "text": [
      "3 [1, 2, 3]\n",
      "2 [2, 4]\n",
      "6 [1, 2, 4, 8, 16, 32]\n",
      "4 [1, 5, 10, 50]\n"
     ]
    }
   ],
   "source": [
    "print(N, As)\n",
    "print(M, Bs)\n",
    "print(L, Cs)\n",
    "print(Q, Xs)"
   ]
  },
  {
   "cell_type": "code",
   "execution_count": 33,
   "metadata": {},
   "outputs": [],
   "source": [
    "# As, Bs, Csから1つずつ選んで足していく\n",
    "\n",
    "sum_set = set()\n",
    "\n",
    "for a in As:\n",
    "    for b in Bs:\n",
    "        for c in Cs:\n",
    "            sum_set.add(a+b+c)"
   ]
  },
  {
   "cell_type": "code",
   "execution_count": 36,
   "metadata": {},
   "outputs": [
    {
     "name": "stdout",
     "output_type": "stream",
     "text": [
      "No\n",
      "Yes\n",
      "Yes\n",
      "No\n"
     ]
    }
   ],
   "source": [
    "for x in Xs:\n",
    "    if x in sum_set:\n",
    "        print('Yes')\n",
    "    else:\n",
    "        print('No')"
   ]
  },
  {
   "cell_type": "code",
   "execution_count": 34,
   "metadata": {},
   "outputs": [
    {
     "data": {
      "text/plain": [
       "{4,\n",
       " 5,\n",
       " 6,\n",
       " 7,\n",
       " 8,\n",
       " 9,\n",
       " 10,\n",
       " 11,\n",
       " 12,\n",
       " 13,\n",
       " 14,\n",
       " 15,\n",
       " 19,\n",
       " 20,\n",
       " 21,\n",
       " 22,\n",
       " 23,\n",
       " 35,\n",
       " 36,\n",
       " 37,\n",
       " 38,\n",
       " 39}"
      ]
     },
     "execution_count": 34,
     "metadata": {},
     "output_type": "execute_result"
    }
   ],
   "source": [
    "sum_set"
   ]
  },
  {
   "cell_type": "code",
   "execution_count": null,
   "metadata": {},
   "outputs": [],
   "source": []
  },
  {
   "cell_type": "code",
   "execution_count": 45,
   "metadata": {},
   "outputs": [],
   "source": [
    "T = input()\n",
    "N = int(input())\n",
    "\n",
    "S = []\n",
    "\n",
    "for i in range(N):\n",
    "    \n",
    "    tmp = input().split()\n",
    "    \n",
    "    A_i = int(tmp[0])\n",
    "    \n",
    "    tmp_list = []\n",
    "    \n",
    "    for j in range(A_i):\n",
    "        tmp_list.append(tmp[j+1])\n",
    "        \n",
    "    S.append(tmp_list)"
   ]
  },
  {
   "cell_type": "code",
   "execution_count": 48,
   "metadata": {},
   "outputs": [],
   "source": [
    "# 空文字を追加\n",
    "for i in range(N):\n",
    "    S[i].append('')"
   ]
  },
  {
   "cell_type": "code",
   "execution_count": null,
   "metadata": {},
   "outputs": [],
   "source": []
  },
  {
   "cell_type": "code",
   "execution_count": 49,
   "metadata": {},
   "outputs": [
    {
     "data": {
      "text/plain": [
       "([['ab', 'abc', 'abcd', ''], ['f', 'c', 'cd', 'bcde', ''], ['e', 'de', '']],\n",
       " 'abcde')"
      ]
     },
     "execution_count": 49,
     "metadata": {},
     "output_type": "execute_result"
    }
   ],
   "source": [
    "S, T"
   ]
  },
  {
   "cell_type": "code",
   "execution_count": 63,
   "metadata": {},
   "outputs": [],
   "source": [
    "# Sで総当たりの文字列を作成\n",
    "\n",
    "# str_set = set()\n",
    "# str_set.add('')\n",
    "\n",
    "str_dict = {'':0} # 文字と結合回数の最小値\n",
    "\n",
    "for s_list in S:\n",
    "    \n",
    "    # tmp_dict = {}\n",
    "    \n",
    "    copy_dict = str_dict.copy()\n",
    "    \n",
    "    for str, value in copy_dict.items():\n",
    "        for s in s_list:\n",
    "\n",
    "            # 空文字の場合はスルー\n",
    "            if s == '':\n",
    "                continue\n",
    "            \n",
    "            else :\n",
    "                tmp_str = str+s\n",
    "                \n",
    "                # すでに登録されている場合は最小値を登録\n",
    "                if tmp_str in str_dict:\n",
    "                    str_dict[tmp_str] = min(str_dict[tmp_str], value+1)\n",
    "                else:\n",
    "                    str_dict[tmp_str] = value+1\n",
    "            \n",
    "            \n",
    "    \n",
    "    # str_set.update(tmp_set)\n"
   ]
  },
  {
   "cell_type": "code",
   "execution_count": 64,
   "metadata": {},
   "outputs": [
    {
     "data": {
      "text/plain": [
       "{'': 0,\n",
       " 'ab': 1,\n",
       " 'abc': 1,\n",
       " 'abcd': 1,\n",
       " 'f': 1,\n",
       " 'c': 1,\n",
       " 'cd': 1,\n",
       " 'bcde': 1,\n",
       " 'abf': 2,\n",
       " 'abbcde': 2,\n",
       " 'abcf': 2,\n",
       " 'abcc': 2,\n",
       " 'abccd': 2,\n",
       " 'abcbcde': 2,\n",
       " 'abcdf': 2,\n",
       " 'abcdc': 2,\n",
       " 'abcdcd': 2,\n",
       " 'abcdbcde': 2,\n",
       " 'e': 1,\n",
       " 'de': 1,\n",
       " 'abe': 2,\n",
       " 'abde': 2,\n",
       " 'abce': 2,\n",
       " 'abcde': 2,\n",
       " 'abcdde': 2,\n",
       " 'fe': 2,\n",
       " 'fde': 2,\n",
       " 'ce': 2,\n",
       " 'cde': 2,\n",
       " 'cdde': 2,\n",
       " 'bcdee': 2,\n",
       " 'bcdede': 2,\n",
       " 'abfe': 3,\n",
       " 'abfde': 3,\n",
       " 'abbcdee': 3,\n",
       " 'abbcdede': 3,\n",
       " 'abcfe': 3,\n",
       " 'abcfde': 3,\n",
       " 'abcce': 3,\n",
       " 'abccde': 3,\n",
       " 'abccdde': 3,\n",
       " 'abcbcdee': 3,\n",
       " 'abcbcdede': 3,\n",
       " 'abcdfe': 3,\n",
       " 'abcdfde': 3,\n",
       " 'abcdce': 3,\n",
       " 'abcdcde': 3,\n",
       " 'abcdcdde': 3,\n",
       " 'abcdbcdee': 3,\n",
       " 'abcdbcdede': 3}"
      ]
     },
     "execution_count": 64,
     "metadata": {},
     "output_type": "execute_result"
    }
   ],
   "source": [
    "str_dict"
   ]
  },
  {
   "cell_type": "code",
   "execution_count": 65,
   "metadata": {},
   "outputs": [
    {
     "data": {
      "text/plain": [
       "2"
      ]
     },
     "execution_count": 65,
     "metadata": {},
     "output_type": "execute_result"
    }
   ],
   "source": [
    "str_dict.get(T, -1)"
   ]
  },
  {
   "cell_type": "code",
   "execution_count": null,
   "metadata": {},
   "outputs": [],
   "source": []
  },
  {
   "cell_type": "code",
   "execution_count": 52,
   "metadata": {},
   "outputs": [
    {
     "data": {
      "text/plain": [
       "{'ababcabcd', 'ede', 'fccdbcde'}"
      ]
     },
     "execution_count": 52,
     "metadata": {},
     "output_type": "execute_result"
    }
   ],
   "source": [
    "str_set"
   ]
  },
  {
   "cell_type": "code",
   "execution_count": null,
   "metadata": {},
   "outputs": [],
   "source": [
    "str_set = set()\n",
    "\n",
    "for s_list in S:\n",
    "    "
   ]
  },
  {
   "cell_type": "code",
   "execution_count": null,
   "metadata": {},
   "outputs": [],
   "source": []
  },
  {
   "cell_type": "code",
   "execution_count": 70,
   "metadata": {},
   "outputs": [
    {
     "name": "stdout",
     "output_type": "stream",
     "text": [
      "2\n"
     ]
    }
   ],
   "source": [
    "def main():\n",
    "    T = input()\n",
    "    N = int(input())\n",
    "    \n",
    "    S = []\n",
    "    for _ in range(N):\n",
    "        S.append(input().split())\n",
    "    \n",
    "    dp = [float('inf')] * (len(T) + 1)\n",
    "    dp[0] = 0\n",
    "\n",
    "    for s_list in S:\n",
    "\n",
    "        for s in s_list:\n",
    "            start = 0\n",
    "            while True:\n",
    "                start = T.find(s, start)\n",
    "                if start == -1:\n",
    "                    break\n",
    "                end = start + len(s)\n",
    "                dp[end] = min(dp[end], dp[start] + 1)\n",
    "                start += 1\n",
    "\n",
    "    print(dp[len(T)] if dp[len(T)] != float('inf') else -1)\n",
    "\n",
    "if __name__ == \"__main__\":\n",
    "    main()\n"
   ]
  },
  {
   "cell_type": "code",
   "execution_count": null,
   "metadata": {},
   "outputs": [],
   "source": []
  },
  {
   "cell_type": "code",
   "execution_count": null,
   "metadata": {},
   "outputs": [],
   "source": []
  },
  {
   "cell_type": "code",
   "execution_count": null,
   "metadata": {},
   "outputs": [],
   "source": []
  },
  {
   "cell_type": "code",
   "execution_count": null,
   "metadata": {},
   "outputs": [],
   "source": []
  },
  {
   "cell_type": "code",
   "execution_count": null,
   "metadata": {},
   "outputs": [],
   "source": []
  }
 ],
 "metadata": {
  "kernelspec": {
   "display_name": "Python 3",
   "language": "python",
   "name": "python3"
  },
  "language_info": {
   "codemirror_mode": {
    "name": "ipython",
    "version": 3
   },
   "file_extension": ".py",
   "mimetype": "text/x-python",
   "name": "python",
   "nbconvert_exporter": "python",
   "pygments_lexer": "ipython3",
   "version": "3.10.12"
  }
 },
 "nbformat": 4,
 "nbformat_minor": 2
}
