{
 "cells": [
  {
   "cell_type": "markdown",
   "metadata": {},
   "source": [
    "# とりあえずコードを動かす場所"
   ]
  },
  {
   "cell_type": "code",
   "execution_count": 2,
   "metadata": {},
   "outputs": [
    {
     "name": "stdout",
     "output_type": "stream",
     "text": [
      "Package                   Version\n",
      "------------------------- -----------\n",
      "appdirs                   1.4.4\n",
      "asttokens                 2.4.1\n",
      "attrs                     23.2.0\n",
      "beautifulsoup4            4.12.3\n",
      "certifi                   2024.2.2\n",
      "charset-normalizer        3.3.2\n",
      "colorama                  0.4.6\n",
      "colorlog                  6.8.2\n",
      "comm                      0.2.1\n",
      "debugpy                   1.8.1\n",
      "decorator                 5.1.1\n",
      "exceptiongroup            1.2.0\n",
      "executing                 2.0.1\n",
      "idna                      3.6\n",
      "ipykernel                 6.29.3\n",
      "ipython                   8.22.2\n",
      "jedi                      0.19.1\n",
      "jsonschema                4.21.1\n",
      "jsonschema-specifications 2023.12.1\n",
      "jupyter_client            8.6.0\n",
      "jupyter_core              5.7.1\n",
      "lxml                      5.1.0\n",
      "matplotlib-inline         0.1.6\n",
      "nest-asyncio              1.6.0\n",
      "numpy                     1.26.4\n",
      "online-judge-api-client   10.10.1\n",
      "online-judge-tools        11.5.1\n",
      "packaging                 23.2\n",
      "parso                     0.8.3\n",
      "pexpect                   4.9.0\n",
      "pip                       24.0\n",
      "platformdirs              4.2.0\n",
      "prompt-toolkit            3.0.43\n",
      "psutil                    5.9.8\n",
      "ptyprocess                0.7.0\n",
      "pure-eval                 0.2.2\n",
      "Pygments                  2.17.2\n",
      "python-dateutil           2.9.0.post0\n",
      "pyzmq                     25.1.2\n",
      "referencing               0.33.0\n",
      "requests                  2.31.0\n",
      "rpds-py                   0.18.0\n",
      "setuptools                69.1.0\n",
      "six                       1.16.0\n",
      "soupsieve                 2.5\n",
      "stack-data                0.6.3\n",
      "toml                      0.10.2\n",
      "tornado                   6.4\n",
      "traitlets                 5.14.1\n",
      "urllib3                   2.2.1\n",
      "wcwidth                   0.2.13\n",
      "wheel                     0.42.0\n",
      "Note: you may need to restart the kernel to use updated packages.\n"
     ]
    }
   ],
   "source": [
    "pip list"
   ]
  },
  {
   "cell_type": "code",
   "execution_count": 1,
   "metadata": {},
   "outputs": [
    {
     "name": "stdout",
     "output_type": "stream",
     "text": [
      "1\n",
      "2\n",
      "4\n",
      "8\n",
      "16\n"
     ]
    }
   ],
   "source": [
    "import numpy as np\n",
    "\n",
    "N = 5\n",
    "\n",
    "for i in range(N):\n",
    "    print(np.power(2, i))"
   ]
  },
  {
   "cell_type": "code",
   "execution_count": null,
   "metadata": {},
   "outputs": [],
   "source": []
  },
  {
   "cell_type": "code",
   "execution_count": null,
   "metadata": {},
   "outputs": [],
   "source": []
  }
 ],
 "metadata": {
  "kernelspec": {
   "display_name": "Python 3",
   "language": "python",
   "name": "python3"
  },
  "language_info": {
   "codemirror_mode": {
    "name": "ipython",
    "version": 3
   },
   "file_extension": ".py",
   "mimetype": "text/x-python",
   "name": "python",
   "nbconvert_exporter": "python",
   "pygments_lexer": "ipython3",
   "version": "3.10.12"
  }
 },
 "nbformat": 4,
 "nbformat_minor": 2
}
